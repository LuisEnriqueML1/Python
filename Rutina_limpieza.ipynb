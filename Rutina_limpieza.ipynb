{
 "cells": [
  {
   "cell_type": "markdown",
   "metadata": {},
   "source": [
    "# Rutina de limpieza de datos\n",
    "## Entrega de programas de enfermeria\n",
    "\n",
    "Detalle de requerimiento: \n",
    "\n",
    "•\tEspecialidad en Administración de los Servicios de Enfermería.\n",
    "\n",
    "•\tEspecialidad en Enfermería Psiquiátrica y Salud Mental.\n",
    "\n",
    "•\tEspecialidad en Enfermería Geriátrica.\n",
    "\n"
   ]
  },
  {
   "cell_type": "markdown",
   "metadata": {},
   "source": [
    "## Carga de datos "
   ]
  },
  {
   "cell_type": "code",
   "execution_count": 1,
   "metadata": {},
   "outputs": [],
   "source": [
    "import pandas as pd\n",
    "# Se carga el conjunto de datos integrado en Power BI\n",
    "df = pd.read_excel(r\"C:\\Users\\luise\\OneDrive\\Documentos\\Consultoria\\ANUIES\\Entregas\\Yucatan_03_09_2024\\Data.xlsx\")"
   ]
  },
  {
   "cell_type": "markdown",
   "metadata": {},
   "source": [
    "## Filtrar datos"
   ]
  },
  {
   "cell_type": "markdown",
   "metadata": {},
   "source": [
    "### 1. Filtrar nivel de estudios \n",
    "El requerimiento pide especialidad, por lo cual, el conjunto de datos será el resultado de filtrar el campo de nivel de estudios por todo aquello relacionado a especialidad. \n",
    "\n",
    "1. Ver los valores unicos del campo nivel de estudios \n",
    "2. Filtrar por lo que sea similar o igual a especialidad "
   ]
  },
  {
   "cell_type": "code",
   "execution_count": 78,
   "metadata": {},
   "outputs": [
    {
     "name": "stdout",
     "output_type": "stream",
     "text": [
      "Valores unicos de nivel de estudios: \n",
      "\n",
      "['ESPECIALIDAD' 'MAESTRIA' 'LICENCIATURA UNIVERSITARIA Y TECNOLOGICA'\n",
      " 'DOCTORADO' 'LICENCIATURA EN EDUCACION NORMAL' 'TECNICO SUPERIOR' nan]\n",
      "\n",
      "Resultado del filtrar los datos: \n",
      "\n",
      "El conjunto de datos tiene 17802 filas y 47 columnas\n"
     ]
    }
   ],
   "source": [
    "# 1. Valores unicos \n",
    "print(\"Valores unicos de nivel de estudios: \")\n",
    "print(\"\")\n",
    "print(df[\"NIVEL DE ESTUDIOS\"].unique())\n",
    "df_filter = df[df[\"NIVEL DE ESTUDIOS\"] == \"ESPECIALIDAD\"]\n",
    "\n",
    "print(\"\")\n",
    "print(\"Resultado del filtrar los datos: \")\n",
    "print(\"\")\n",
    "print(f\"El conjunto de datos tiene {df_filter.shape[0]} filas y {df_filter.shape[1]} columnas\")"
   ]
  },
  {
   "cell_type": "markdown",
   "metadata": {},
   "source": [
    "### 2. Filtrar Modalidad de Estudios\n",
    "Se busca filtrar por la modalidad de estudios escolarizada \n",
    "\n",
    "1. Buscar valores unicos de modalidad de estudios \n",
    "2. Filtrar campo por valores similares a escolarizado"
   ]
  },
  {
   "cell_type": "code",
   "execution_count": 79,
   "metadata": {},
   "outputs": [
    {
     "name": "stdout",
     "output_type": "stream",
     "text": [
      "Valores unicos de modalidad de estudios: \n",
      "\n",
      "['ESCOLARIZADA' 'NO ESCOLAR' 'ESCOLAR' 'NO ESCOLARIZADA' 'MIXTA']\n",
      "\n",
      "Resultado del filtrar los datos: \n",
      "\n",
      "El conjunto de datos tiene 14867 filas y 47 columnas\n"
     ]
    }
   ],
   "source": [
    "# 1. Valores unicos\n",
    "print(\"Valores unicos de modalidad de estudios: \")\n",
    "print(\"\")\n",
    "print(df_filter[\"MODALIDAD DE ESTUDIOS\"].unique())\n",
    "# 2. Filtrar valores\n",
    "df_filter_escolar = df_filter[\n",
    "    (df_filter[\"MODALIDAD DE ESTUDIOS\"] == \"ESCOLARIZADA\" ) |  \n",
    "    ( df_filter[\"MODALIDAD DE ESTUDIOS\"]  == \"ESCOLAR\")]\n",
    "\n",
    "\n",
    "print(\"\")\n",
    "print(\"Resultado del filtrar los datos: \")\n",
    "print(\"\")\n",
    "print(f\"El conjunto de datos tiene {df_filter_escolar.shape[0]} filas y {df_filter_escolar.shape[1]} columnas\")"
   ]
  },
  {
   "cell_type": "markdown",
   "metadata": {},
   "source": [
    "### 3. Filtrar Campo Amplio de Formación \n",
    "Se busca filtrar por un campo amplio que se relacione al area de la salud. \n",
    "\n",
    "1. Buscar valores unicos similares al area de la salud\n",
    "2. Filtrar el conjunto de datos por los valores similares al area de la salud"
   ]
  },
  {
   "cell_type": "code",
   "execution_count": 80,
   "metadata": {},
   "outputs": [
    {
     "name": "stdout",
     "output_type": "stream",
     "text": [
      "Valores unicos campo amplio de formación : \n",
      "\n",
      "\n",
      "Resultado del filtrar los datos: \n",
      "\n",
      "El conjunto de datos tiene 7715 filas y 47 columnas\n"
     ]
    }
   ],
   "source": [
    "# 1. Valores unicos \n",
    "print(\"Valores unicos campo amplio de formación : \")\n",
    "print(\"\")\n",
    "df_filter_escolar[\"CAMPO AMPLIO DE FORMACIÓN\"].unique() \n",
    "\n",
    "df_filter_escolar_salud = df_filter_escolar[\n",
    "    (df_filter_escolar[\"CAMPO AMPLIO DE FORMACIÓN\"] == \"CIENCIAS DE LA SALUD\") | \n",
    "    (df_filter_escolar[\"CAMPO AMPLIO DE FORMACIÓN\"] == \"SALUD\")\n",
    "    ]\n",
    "\n",
    "print(\"\")\n",
    "print(\"Resultado del filtrar los datos: \")\n",
    "print(\"\")\n",
    "print(f\"El conjunto de datos tiene {df_filter_escolar_salud.shape[0]} filas y {df_filter_escolar_salud.shape[1]} columnas\")"
   ]
  },
  {
   "cell_type": "markdown",
   "metadata": {},
   "source": [
    "### 4. Filtrar Campo Espeficio de Formación \n",
    "Se busca filtrar por un campo especifico que sea similar al area de salud / Enfermeria\n",
    "\n",
    "1. Buscar valores unicos similares al area de enfermeria\n",
    "2. Filtrar el conjunto de datos por los valores similares al area de enfermeria"
   ]
  },
  {
   "cell_type": "code",
   "execution_count": 81,
   "metadata": {},
   "outputs": [
    {
     "name": "stdout",
     "output_type": "stream",
     "text": [
      "Valores unicos campo especifico de formación : \n",
      "\n",
      "\n",
      "Resultado del filtrar los datos: \n",
      "\n",
      "El conjunto de datos tiene 6307 filas y 47 columnas\n"
     ]
    }
   ],
   "source": [
    "# 1. Valores unicos \n",
    "print(\"Valores unicos campo especifico de formación : \")\n",
    "print(\"\")\n",
    "df_filter_escolar_salud[\"CAMPO ESPECÍFICO DE FORMACIÓN\"].unique()\n",
    "df_filter_escolar_salud_especifico = df_filter_escolar_salud[\n",
    "    df_filter_escolar_salud[\"CAMPO ESPECÍFICO DE FORMACIÓN\"] != \"CIENCIAS ODONTOLOGICAS\"]\n",
    "\n",
    "print(\"\")\n",
    "print(\"Resultado del filtrar los datos: \")\n",
    "print(\"\")\n",
    "print(f\"El conjunto de datos tiene {df_filter_escolar_salud_especifico.shape[0]} filas y {df_filter_escolar_salud_especifico.shape[1]} columnas\")"
   ]
  },
  {
   "cell_type": "markdown",
   "metadata": {},
   "source": [
    "### 5. Filtrar por Campo Detallado de Formación \n",
    "Se busca filtrar por campos similares al area de enfermeria. En este caso, se hace una lista de los valores que no se requieren y se filtra por todo aquello que no es similar a esta lista. \n",
    "\n",
    "1. Buscar valores unicos \n",
    "2. Crear lista de campos que no similares\n",
    "3. Filtrar por todo lo que no sea igual a la lista de campos \n",
    "\n"
   ]
  },
  {
   "cell_type": "code",
   "execution_count": 82,
   "metadata": {},
   "outputs": [
    {
     "name": "stdout",
     "output_type": "stream",
     "text": [
      "Valores unicos campo detallado de formación : \n",
      "\n",
      "['NUTRICION' 'SALUD, PROGRAMAS MULTIDISCIPLINARIOS O GENERALES'\n",
      " 'PLANES MULTIDISCIPLINARIOS O GENERALES DEL CAMPO DE DISCIPLINAS AUXILIARES PARA LA SALUD'\n",
      " 'MEDICINA GENERAL' 'ESTOMATOLOGIA Y ODONTOLOGIA'\n",
      " 'DIAGNOSTICO MEDICO Y TECNOLOGIA DEL TRATAMIENTO' 'MEDICINA HOMEOPATICA'\n",
      " 'SALUD PUBLICA' 'AUDIOMETRIA Y OPTOMETRIA' 'TERAPIA Y REHABILITACION'\n",
      " 'ENFERMERIA Y CUIDADOS' 'FARMACIA'\n",
      " 'TRATAMIENTOS ALTERNATIVOS Y ACUPUNTURA'\n",
      " 'ENFERMERIA GENERAL Y OBSTETRICIA'\n",
      " 'PLANES MULTIDISCIPLINARIOS O GENERALES DEL CAMPO DE TERAPIA, REHABILITACION Y TRATAMIENTOS ALTERNATIVOS'\n",
      " 'MEDICINA DE ESPECIALIDAD' 'ENFERMERIA DE ESPECIALIDAD' 'MEDICINA']\n",
      "\n",
      "Resultado del filtrar los datos: \n",
      "\n",
      "El conjunto de datos tiene 5956 filas y 47 columnas\n"
     ]
    }
   ],
   "source": [
    "# 1. Valores unicos \n",
    "print(\"Valores unicos campo detallado de formación : \")\n",
    "print(\"\")\n",
    "print(df_filter_escolar_salud_especifico[\"CAMPO DETALLADO DE FORMACIÓN\"].unique())\n",
    "\n",
    "# 2. Crear lista\n",
    "campos_no_similares = ['NUTRICION', 'ESTOMATOLOGIA Y ODONTOLOGIA','MEDICINA HOMEOPATICA','AUDIOMETRIA Y OPTOMETRIA', 'TERAPIA Y REHABILITACION',\n",
    "                       'FARMACIA','TRATAMIENTOS ALTERNATIVOS Y ACUPUNTURA']\n",
    "\n",
    "# 3. Filtrar datos\n",
    "df_filter_escolar_salud_especifico_formacion = df_filter_escolar_salud_especifico[\n",
    "    ~df_filter_escolar_salud_especifico[\"CAMPO DETALLADO DE FORMACIÓN\"].isin(campos_no_similares)\n",
    "]\n",
    "\n",
    "print(\"\")\n",
    "print(\"Resultado del filtrar los datos: \")\n",
    "print(\"\")\n",
    "print(f\"El conjunto de datos tiene {df_filter_escolar_salud_especifico_formacion.shape[0]} filas y {df_filter_escolar_salud_especifico_formacion.shape[1]} columnas\")"
   ]
  },
  {
   "cell_type": "markdown",
   "metadata": {},
   "source": [
    "### 6. Filtrar por campo unitario de formación \n",
    "\n",
    "Se busca filtrar por un campo"
   ]
  },
  {
   "cell_type": "code",
   "execution_count": 83,
   "metadata": {},
   "outputs": [
    {
     "name": "stdout",
     "output_type": "stream",
     "text": [
      "Valores unicos campo unitario de formación : \n",
      "\n",
      "Nombre del campo: NO APLICA CAMPO UNITARIO número 1\n",
      "Nombre del campo: ANGIOLOGIA Y CIRUGIA VASCULAR número 2\n",
      "Nombre del campo: CARDIOLOGIA número 3\n",
      "Nombre del campo: CIRUGIA CARDIOTORACICA número 4\n",
      "Nombre del campo: CIRUGIA NEUROLOGICA número 5\n",
      "Nombre del campo: CIRUGIA PLASTICA ESTETICA Y RECONSTRUCTIVA número 6\n",
      "Nombre del campo: ENDOCRINOLOGIA número 7\n",
      "Nombre del campo: GASTROENTEROLOGIA número 8\n",
      "Nombre del campo: HEMATOLOGIA número 9\n",
      "Nombre del campo: INMUNOLOGIA CLINICA Y ALERGOLOGIA número 10\n",
      "Nombre del campo: MEDICINA CRITICA número 11\n",
      "Nombre del campo: NEUROLOGIA número 12\n",
      "Nombre del campo: ONCOLOGIA Y RADIOTERAPIA número 13\n",
      "Nombre del campo: OTORRINOLARINGOLOGIA Y CIRUGIA DE CABEZA Y CUELLO número 14\n",
      "Nombre del campo: RADIOLOGIA E IMAGEN número 15\n",
      "Nombre del campo: REUMATOLOGIA número 16\n",
      "Nombre del campo: MEDICINA DEL TRABAJO número 17\n",
      "Nombre del campo: ORTOPEDIA Y TRAUMATOLOGIA número 18\n",
      "Nombre del campo: ANESTESIOLOGIA número 19\n",
      "Nombre del campo: CIRUGIA GENERAL número 20\n",
      "Nombre del campo: MEDICINA INTERNA número 21\n",
      "Nombre del campo: INFECTOLOGIA número 22\n",
      "Nombre del campo: ENFERMERIA QUIRURGICA número 23\n",
      "Nombre del campo: OTRAS ESPECIALIDADES MEDICAS número 24\n",
      "Nombre del campo: GINECOLOGIA Y OBSTETRICIA número 25\n",
      "Nombre del campo: MEDICINA AEROESPACIAL número 26\n",
      "Nombre del campo: ENFERMERIA PERINATAL Y PEDIATRICA número 27\n",
      "Nombre del campo: PEDIATRIA número 28\n",
      "Nombre del campo: MEDICINA DE URGENCIAS número 29\n",
      "Nombre del campo: ENFERMERIA EN GERIATRIA Y GERONTOLOGIA número 30\n",
      "Nombre del campo: ENFERMERIA ONCOLOGICA número 31\n",
      "Nombre del campo: ENFERMERIA CRITICA Y CUIDADOS INTENSIVOS número 32\n",
      "Nombre del campo: OTRAS ESPECIALIDADES DE ENFERMERIA número 33\n",
      "Nombre del campo: ENDOSCOPIA número 34\n",
      "Nombre del campo: UROLOGIA número 35\n",
      "Nombre del campo: MEDICINA ANATOMOPATOLOGICA número 36\n",
      "Nombre del campo: ENFERMERIA EN SALUD PUBLICA número 37\n",
      "Nombre del campo: MEDICINA FAMILIAR número 38\n",
      "Nombre del campo: ONCOLOGIA número 39\n",
      "Nombre del campo: PSIQUIATRIA número 40\n",
      "Nombre del campo: NEFROLOGIA número 41\n",
      "Nombre del campo: TRAUMATOLOGIA Y ORTOPEDIA número 42\n",
      "Nombre del campo: PROCTOLOGIA número 43\n",
      "Nombre del campo: CIRUGIA DE ESPECIALIDAD número 44\n",
      "Nombre del campo: PATOLOGIA Y ANATOMIA PATOLOGICA número 45\n",
      "Nombre del campo: MEDICINA INTERNA Y MEDICINA DE URGENCIAS número 46\n",
      "Nombre del campo: PATOLOGIA CLINICA Y MEDICINA DE LABORATORIO número 47\n",
      "Nombre del campo: CIRUGIA PEDIATRICA número 48\n",
      "Nombre del campo: MEDICINA NUCLEAR número 49\n",
      "Nombre del campo: OFTALMOLOGIA número 50\n",
      "Nombre del campo: HOMEOPATIA Y MEDICINA DE TERAPIA COMPLEMENTARIA número 51\n",
      "Nombre del campo: NEONATOLOGIA Y PEDIATRIA número 52\n",
      "Nombre del campo: ALERGOLOGIA E INMUNOLOGIA número 53\n",
      "Nombre del campo: ANGIOLOGIA número 54\n",
      "Nombre del campo: DERMATOLOGIA número 55\n",
      "Nombre del campo: GERIATRIA número 56\n",
      "Nombre del campo: MEDICINA DEL DEPORTE número 57\n",
      "Nombre del campo: MEDICINA FORENSE número 58\n",
      "Nombre del campo: OTORRINOLARINGOLOGIA número 59\n",
      "Nombre del campo: MEDICINA LEGAL Y FORENSE número 60\n",
      "Nombre del campo: MEDICINA DE REHABILITACION número 61\n",
      "Nombre del campo: NEUMOLOGIA número 62\n",
      "Nombre del campo: ENFERMEDADES DEL COLON Y RECTO número 63\n",
      "Nombre del campo: GENETICA MEDICA número 64\n",
      "Nombre del campo: MEDICINA GENERAL número 65\n",
      "Nombre del campo: ENFERMERIA CARDIOVASCULAR número 66\n",
      "Nombre del campo: AUDIOLOGIA número 67\n",
      "Nombre del campo: RADIOLOGIA número 68\n",
      "Nombre del campo: AUDIOLOGIA Y FONIATRIA número 69\n",
      "Nombre del campo: NEUROFISIOLOGIA CLINICA número 70\n",
      "\n",
      "Resultado del filtrar los datos: \n",
      "\n",
      "El conjunto de datos tiene 3628 filas y 47 columnas\n"
     ]
    }
   ],
   "source": [
    "# 1. Valores unicos \n",
    "print(\"Valores unicos campo unitario de formación : \")\n",
    "print(\"\")\n",
    "lista = df_filter_escolar_salud_especifico_formacion[\"CAMPO UNITARIO DE FORMACIÓN\"].unique()\n",
    "n = 1\n",
    "for i in lista:\n",
    "    print(f\"Nombre del campo: {i} número {n}\")\n",
    "    n += 1\n",
    "    \n",
    "# 2. Lista de campos no similares   \n",
    "campos_no_similares = [\n",
    "    \"NO APLICA CAMPO UNITARIO\",\"ANGIOLOGIA Y CIRUGIA VASCULAR\",\"CARDIOLOGIA\",\"CIRUGIA CARDIOTORACICA\",\"CIRUGIA NEUROLOGICA\",\n",
    "    \"CIRUGIA PLASTICA ESTETICA Y RECONSTRUCTIVA\",\"ENDOCRINOLOGIA\",\"GASTROENTEROLOGIA\",\"HEMATOLOGIA\",\"INMUNOLOGIA CLINICA Y ALERGOLOGIA\",\n",
    "    \"OTORRINOLARINGOLOGIA Y CIRUGIA DE CABEZA Y CUELLO\",\"RADIOLOGIA E IMAGEN\",\"REUMATOLOGIA\",\"ORTOPEDIA Y TRAUMATOLOGIA\",\n",
    "    \"ANESTESIOLOGIA\",\"MEDICINA AEROESPACIAL\",\"OFTALMOLOGIA\",\"MEDICINA NUCLEAR\",\"CIRUGIA PEDIATRICA\",\n",
    "    \"HOMEOPATIA Y MEDICINA DE TERAPIA COMPLEMENTARIA\",\"NEONATOLOGIA Y PEDIATRIA\",\"ALERGOLOGIA E INMUNOLOGIA\",\n",
    "    \"ANGIOLOGIA\",\"DERMATOLOGIA\",\"MEDICINA DEL DEPORTE\",\"MEDICINA FORENSE\",\"OTORRINOLARINGOLOGIA\",\"MEDICINA LEGAL Y FORENSE\",\n",
    "    \"NEUMOLOGIA\",\"ENFERMEDADES DEL COLON Y RECTO\",\"GENETICA MEDICA\",\"AUDIOLOGIA\",\"RADIOLOGIA\",\"AUDIOLOGIA Y FONIATRIA\",\n",
    "    \"NEUROFISIOLOGIA CLINICA\"]\n",
    "\n",
    "\n",
    "df_filter_escolar_salud_especifico_formacion_unitario = df_filter_escolar_salud_especifico_formacion[\n",
    "    ~df_filter_escolar_salud_especifico_formacion[\"CAMPO UNITARIO DE FORMACIÓN\"].isin(campos_no_similares)]\n",
    "\n",
    "print(\"\")\n",
    "print(\"Resultado del filtrar los datos: \")\n",
    "print(\"\")\n",
    "print(f\"El conjunto de datos tiene {df_filter_escolar_salud_especifico_formacion_unitario.shape[0]} filas y {df_filter_escolar_salud_especifico_formacion_unitario.shape[1]} columnas\")"
   ]
  },
  {
   "cell_type": "markdown",
   "metadata": {},
   "source": [
    "### 7. Filtrar los datos por nombre de programa educativo\n",
    "\n",
    "En este caso, se van a cambiar los pasos anteriores.\n",
    "\n",
    "1. Se exporta el resultado a un csv\n",
    "2. Se trabaja en excel y luego se cargan los datos, creando una nueva columna con 4 categorias\n",
    "   1. La primer categoria es **NS** (No similar) es un campo de formación no similar a lo que buscamos\n",
    "   2. La segunda categoria es **ADM** para campos similares a Especialidad en Administración de los Servicios de Enfermería\n",
    "   3. La tercer categoria es **PSI** para campos similares a Especialidad en Enfermería Psiquiátrica y Salud Mental\n",
    "   4. La tercer categoria es **GER** para campos simialres a Especialidad en Enfermería Geriátrica.\n",
    "\n",
    "3. Unir los datos de campos clasificados con el conjunto de datos. Filtrar los datos quitando NS \n",
    "4. Exportar los datos para graficar en R\n"
   ]
  },
  {
   "cell_type": "code",
   "execution_count": 110,
   "metadata": {},
   "outputs": [
    {
     "name": "stdout",
     "output_type": "stream",
     "text": [
      "El resultado de filtrar los datos es: \n",
      "\n",
      "El conjunto de datos tiene 542 filas y 48 columnas\n",
      "\n",
      "Datos exportados\n"
     ]
    }
   ],
   "source": [
    "# 1. Exportar el csv\n",
    "df_filter_escolar_salud_especifico_formacion_unitario_export = df_filter_escolar_salud_especifico_formacion_unitario[\"NOMBRE PROGRAMA EDUCATIVO\"]\n",
    "df_filter_escolar_salud_especifico_formacion_unitario_export.to_csv(\"C:/users/luise/Downloads/campos.csv\",  encoding='utf-8-sig')\n",
    "\n",
    "\n",
    "# 2. Cargar los datos de excel\n",
    "campos_clasificados = pd.read_excel(r\"C:\\Users\\luise\\OneDrive\\Documentos\\Consultoria\\ANUIES\\Entregas\\Yucatan_03_09_2024\\campos_clasificados.xlsx\", \n",
    "                                   sheet_name= \"Limpieza\")\n",
    "\n",
    "\n",
    "# 3. Unir los datos y filtrar \n",
    "df_merge = df_filter_escolar_salud_especifico_formacion_unitario.merge(campos_clasificados, on = \"NOMBRE PROGRAMA EDUCATIVO\", how='left')\n",
    "df_final = df_merge[df_merge[\"Clasificacion_req\"] != \"NS\"]\n",
    "print(\"El resultado de filtrar los datos es: \")\n",
    "print(\"\")\n",
    "print(f\"El conjunto de datos tiene {df_final.shape[0]} filas y {df_final.shape[1]} columnas\")\n",
    "\n",
    "# 4. Exportar los datos \n",
    "print(\"\")\n",
    "df_final.to_csv(r\"C:\\Users\\luise\\OneDrive\\Documentos\\Consultoria\\ANUIES\\Entregas\\Yucatan_03_09_2024\\df_final.csv\")\n",
    "print(\"Datos exportados\")\n"
   ]
  }
 ],
 "metadata": {
  "kernelspec": {
   "display_name": "Python 3",
   "language": "python",
   "name": "python3"
  },
  "language_info": {
   "codemirror_mode": {
    "name": "ipython",
    "version": 3
   },
   "file_extension": ".py",
   "mimetype": "text/x-python",
   "name": "python",
   "nbconvert_exporter": "python",
   "pygments_lexer": "ipython3",
   "version": "3.12.3"
  }
 },
 "nbformat": 4,
 "nbformat_minor": 2
}
